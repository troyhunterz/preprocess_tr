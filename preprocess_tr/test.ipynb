{
 "cells": [
  {
   "cell_type": "code",
   "execution_count": 31,
   "id": "f6003486",
   "metadata": {},
   "outputs": [],
   "source": [
    "import preprocess_tr as ps"
   ]
  },
  {
   "cell_type": "code",
   "execution_count": 32,
   "id": "2b67a6da",
   "metadata": {},
   "outputs": [
    {
     "data": {
      "text/plain": [
       "<function preprocess_tr.text_preprocess.download_nltk_pkgs()>"
      ]
     },
     "execution_count": 32,
     "metadata": {},
     "output_type": "execute_result"
    }
   ],
   "source": [
    "# When you use this library for the first time\n",
    "ps.download_nltk_pkgs"
   ]
  },
  {
   "cell_type": "code",
   "execution_count": 33,
   "id": "8288dad7",
   "metadata": {},
   "outputs": [
    {
     "data": {
      "text/plain": [
       "5"
      ]
     },
     "execution_count": 33,
     "metadata": {},
     "output_type": "execute_result"
    }
   ],
   "source": [
    "ps.word_count('This is an example sentence')"
   ]
  },
  {
   "cell_type": "code",
   "execution_count": 34,
   "id": "6b527894",
   "metadata": {},
   "outputs": [
    {
     "data": {
      "text/plain": [
       "23"
      ]
     },
     "execution_count": 34,
     "metadata": {},
     "output_type": "execute_result"
    }
   ],
   "source": [
    "ps.char_count('This is an example sentence')"
   ]
  },
  {
   "cell_type": "code",
   "execution_count": 35,
   "id": "f640dc3d",
   "metadata": {},
   "outputs": [
    {
     "data": {
      "text/plain": [
       "4.6"
      ]
     },
     "execution_count": 35,
     "metadata": {},
     "output_type": "execute_result"
    }
   ],
   "source": [
    "ps.avg_word_len('This is an example sentence')"
   ]
  },
  {
   "cell_type": "code",
   "execution_count": 36,
   "id": "ce21e3af",
   "metadata": {},
   "outputs": [
    {
     "data": {
      "text/plain": [
       "5"
      ]
     },
     "execution_count": 36,
     "metadata": {},
     "output_type": "execute_result"
    }
   ],
   "source": [
    "ps.stopwords_count('This is a sample text with some common stopwords')"
   ]
  },
  {
   "cell_type": "code",
   "execution_count": 37,
   "id": "a7287ed3",
   "metadata": {},
   "outputs": [
    {
     "data": {
      "text/plain": [
       "3"
      ]
     },
     "execution_count": 37,
     "metadata": {},
     "output_type": "execute_result"
    }
   ],
   "source": [
    "ps.hashtags_count('#work #productivity #focus')"
   ]
  },
  {
   "cell_type": "code",
   "execution_count": 38,
   "id": "633d528d",
   "metadata": {},
   "outputs": [
    {
     "data": {
      "text/plain": [
       "3"
      ]
     },
     "execution_count": 38,
     "metadata": {},
     "output_type": "execute_result"
    }
   ],
   "source": [
    "ps.mentions_count('@alice @bob and @charlie')"
   ]
  },
  {
   "cell_type": "code",
   "execution_count": 39,
   "id": "4a2ee47e",
   "metadata": {},
   "outputs": [
    {
     "data": {
      "text/plain": [
       "2"
      ]
     },
     "execution_count": 39,
     "metadata": {},
     "output_type": "execute_result"
    }
   ],
   "source": [
    "ps.numerics_count('I plan to play Battlefield 1 and Metro 2033 this weekend')"
   ]
  },
  {
   "cell_type": "code",
   "execution_count": 40,
   "id": "ca9e411f",
   "metadata": {},
   "outputs": [
    {
     "data": {
      "text/plain": [
       "2"
      ]
     },
     "execution_count": 40,
     "metadata": {},
     "output_type": "execute_result"
    }
   ],
   "source": [
    "ps.uppers_count('This is an EXAMPLE of UPPERCASE usage')"
   ]
  },
  {
   "cell_type": "code",
   "execution_count": 41,
   "id": "5ad5c3c0",
   "metadata": {},
   "outputs": [
    {
     "data": {
      "text/plain": [
       "7"
      ]
     },
     "execution_count": 41,
     "metadata": {},
     "output_type": "execute_result"
    }
   ],
   "source": [
    "ps.lowers_count('This is a test sentence with lowercase letters')"
   ]
  },
  {
   "cell_type": "code",
   "execution_count": 42,
   "id": "5f5980f5",
   "metadata": {},
   "outputs": [
    {
     "data": {
      "text/plain": [
       "'hello world! how are you?'"
      ]
     },
     "execution_count": 42,
     "metadata": {},
     "output_type": "execute_result"
    }
   ],
   "source": [
    "ps.to_lower_case('HELLO WORLD! HOW ARE YOU?')"
   ]
  },
  {
   "cell_type": "code",
   "execution_count": 43,
   "id": "f7e34298",
   "metadata": {},
   "outputs": [
    {
     "data": {
      "text/plain": [
       "'i have been to the market and i will go again soon'"
      ]
     },
     "execution_count": 43,
     "metadata": {},
     "output_type": "execute_result"
    }
   ],
   "source": [
    "ps.contraction_to_expansion('I\\'ve been to the market and I\\'ll go again soon')"
   ]
  },
  {
   "cell_type": "code",
   "execution_count": 44,
   "id": "2be2c6fd",
   "metadata": {},
   "outputs": [
    {
     "data": {
      "text/plain": [
       "'Please contact me at  for more details.'"
      ]
     },
     "execution_count": 44,
     "metadata": {},
     "output_type": "execute_result"
    }
   ],
   "source": [
    "ps.remove_emails('Please contact me at example@example.com for more details.')"
   ]
  },
  {
   "cell_type": "code",
   "execution_count": 45,
   "id": "dad87d5c",
   "metadata": {},
   "outputs": [
    {
     "data": {
      "text/plain": [
       "2"
      ]
     },
     "execution_count": 45,
     "metadata": {},
     "output_type": "execute_result"
    }
   ],
   "source": [
    "ps.count_emails('You can reach me at john.doe@example.com or jane_doe123@mail.com')"
   ]
  },
  {
   "cell_type": "code",
   "execution_count": 46,
   "id": "b7bec6cc",
   "metadata": {},
   "outputs": [
    {
     "data": {
      "text/plain": [
       "'Visit our site at  for more info'"
      ]
     },
     "execution_count": 46,
     "metadata": {},
     "output_type": "execute_result"
    }
   ],
   "source": [
    "ps.remove_urls('Visit our site at https://example.com for more info')"
   ]
  },
  {
   "cell_type": "code",
   "execution_count": 47,
   "id": "fa125c6a",
   "metadata": {},
   "outputs": [
    {
     "data": {
      "text/plain": [
       "1"
      ]
     },
     "execution_count": 47,
     "metadata": {},
     "output_type": "execute_result"
    }
   ],
   "source": [
    "ps.count_urls('Visit our site at https://example.com for more info')"
   ]
  },
  {
   "cell_type": "code",
   "execution_count": 48,
   "id": "d651b7fd",
   "metadata": {},
   "outputs": [
    {
     "data": {
      "text/plain": [
       "\"Say my name, I'm the one who knocks \""
      ]
     },
     "execution_count": 48,
     "metadata": {},
     "output_type": "execute_result"
    }
   ],
   "source": [
    "ps.remove_retweets('Say my name, I\\'m the one who knocks RT @walterwhite')"
   ]
  },
  {
   "cell_type": "code",
   "execution_count": 49,
   "id": "c3880fad",
   "metadata": {},
   "outputs": [
    {
     "data": {
      "text/plain": [
       "2"
      ]
     },
     "execution_count": 49,
     "metadata": {},
     "output_type": "execute_result"
    }
   ],
   "source": [
    "ps.count_retweets('I am not in danger, Skyler. I am the danger. RT @heisenberg | RT @jessepinkman')"
   ]
  },
  {
   "cell_type": "code",
   "execution_count": 50,
   "id": "6167f8ca",
   "metadata": {},
   "outputs": [
    {
     "data": {
      "text/plain": [
       "' This is a bold text with italics '"
      ]
     },
     "execution_count": 50,
     "metadata": {},
     "output_type": "execute_result"
    }
   ],
   "source": [
    "text = '<div> This is a <b>bold</b> text <i>with italics</i> </div>'\n",
    "ps.rm_html(text)"
   ]
  },
  {
   "cell_type": "code",
   "execution_count": 51,
   "id": "510df722",
   "metadata": {},
   "outputs": [
    {
     "data": {
      "text/plain": [
       "'Cafe au lait is a French drink'"
      ]
     },
     "execution_count": 51,
     "metadata": {},
     "output_type": "execute_result"
    }
   ],
   "source": [
    "ps.rm_accented_chars('Café au lait is a French drink')  "
   ]
  },
  {
   "cell_type": "code",
   "execution_count": 52,
   "id": "041c5fe5",
   "metadata": {},
   "outputs": [
    {
     "data": {
      "text/plain": [
       "'p some text DATA RT heisenberg p'"
      ]
     },
     "execution_count": 52,
     "metadata": {},
     "output_type": "execute_result"
    }
   ],
   "source": [
    "ps.rm_special_chars('<p> some text @DATA RT @heisenberg </p>')"
   ]
  },
  {
   "cell_type": "code",
   "execution_count": 53,
   "id": "50bf144f",
   "metadata": {},
   "outputs": [
    {
     "data": {
      "text/plain": [
       "'I am the danger , not'"
      ]
     },
     "execution_count": 53,
     "metadata": {},
     "output_type": "execute_result"
    }
   ],
   "source": [
    "ps.rm_mentions('I am the danger @heisenberg, not @jessepinkman')"
   ]
  },
  {
   "cell_type": "code",
   "execution_count": 54,
   "id": "e8709e53",
   "metadata": {},
   "outputs": [
    {
     "data": {
      "text/plain": [
       "'Sayy myy namee, I am the dangerr'"
      ]
     },
     "execution_count": 54,
     "metadata": {},
     "output_type": "execute_result"
    }
   ],
   "source": [
    "ps.rm_repeated_chars('Sayy myyy nameee, I am the dangerrr')"
   ]
  },
  {
   "cell_type": "code",
   "execution_count": 55,
   "id": "b5e865d8",
   "metadata": {},
   "outputs": [
    {
     "data": {
      "text/plain": [
       "'This beautiful planet'"
      ]
     },
     "execution_count": 55,
     "metadata": {},
     "output_type": "execute_result"
    }
   ],
   "source": [
    "ps.rm_stopwords('This is our beautiful planet')"
   ]
  },
  {
   "cell_type": "code",
   "execution_count": 56,
   "id": "5f839a56",
   "metadata": {},
   "outputs": [
    {
     "data": {
      "text/plain": [
       "'run run run'"
      ]
     },
     "execution_count": 56,
     "metadata": {},
     "output_type": "execute_result"
    }
   ],
   "source": [
    "ps.lemmatize_noun_verb('Running run ran')"
   ]
  },
  {
   "cell_type": "code",
   "execution_count": 57,
   "id": "a38884a5",
   "metadata": {},
   "outputs": [
    {
     "data": {
      "text/plain": [
       "'run run run'"
      ]
     },
     "execution_count": 57,
     "metadata": {},
     "output_type": "execute_result"
    }
   ],
   "source": [
    "ps.lemmatize('Running run ran')"
   ]
  },
  {
   "cell_type": "code",
   "execution_count": 58,
   "id": "e1785f5b",
   "metadata": {},
   "outputs": [
    {
     "data": {
      "text/plain": [
       "\"Don't be fooled by the beautiful interior of the establishment, it simply cannot be worse. For a lot of money, terrible, poorly prepared food, with terrible service, lack of a bar and desserts. They also forced us to make tea ourselves and gave us water and bags of deshman tea. I don’t understand who comes here and how this place is still open.\""
      ]
     },
     "execution_count": 58,
     "metadata": {},
     "output_type": "execute_result"
    }
   ],
   "source": [
    "x = '''Don't be fooled by the beautiful interior of the establishment, it simply cannot be worse. For a lot of money, terrible, poorly prepared food, with terrible service, lack of a bar and desserts. They also forced us to make tea ourselves and gave us water and bags of deshman tea. I don’t understand who comes here and how this place is still open.'''\n",
    "ps.rm_common_words(x, 'fool')"
   ]
  },
  {
   "cell_type": "code",
   "execution_count": 59,
   "id": "3ab86624",
   "metadata": {},
   "outputs": [
    {
     "data": {
      "text/plain": [
       "'The dogs are playing with cats'"
      ]
     },
     "execution_count": 59,
     "metadata": {},
     "output_type": "execute_result"
    }
   ],
   "source": [
    "x = 'The dogs are playing with cats'\n",
    "ps.correct_spelling(x)"
   ]
  },
  {
   "cell_type": "code",
   "execution_count": 60,
   "id": "5e4acdde",
   "metadata": {},
   "outputs": [
    {
     "data": {
      "text/plain": [
       "WordList(['terrible service', 'deshman tea', 'don ’ t'])"
      ]
     },
     "execution_count": 60,
     "metadata": {},
     "output_type": "execute_result"
    }
   ],
   "source": [
    "x = '''Don't be fooled by the beautiful interior of the establishment, it simply cannot be worse. For a lot of money, terrible, poorly prepared food, with terrible service, lack of a bar and desserts. They also forced us to make tea ourselves and gave us water and bags of deshman tea. I don’t understand who comes here and how this place is still open.'''\n",
    "ps.get_noun_phrase(x)"
   ]
  }
 ],
 "metadata": {
  "kernelspec": {
   "display_name": "base",
   "language": "python",
   "name": "python3"
  },
  "language_info": {
   "codemirror_mode": {
    "name": "ipython",
    "version": 3
   },
   "file_extension": ".py",
   "mimetype": "text/x-python",
   "name": "python",
   "nbconvert_exporter": "python",
   "pygments_lexer": "ipython3",
   "version": "3.12.4"
  }
 },
 "nbformat": 4,
 "nbformat_minor": 5
}
